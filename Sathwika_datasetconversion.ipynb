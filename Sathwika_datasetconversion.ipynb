{
 "cells": [
  {
   "cell_type": "code",
   "execution_count": null,
   "id": "ed350bd9-b8ad-4928-9784-40d18774c1be",
   "metadata": {},
   "outputs": [],
   "source": [
    "def preprocess(squad_file_path):\n",
    "    with open(file_path, 'r') as f:\n",
    "        squad_dict = json.load(f)\n",
    "    squad_data = squad_dict['data']\n",
    "    rows_values = []\n",
    "    for value in squad_data:\n",
    "        for paragraph in value['paragraphs']:\n",
    "            context = paragraph['context']\n",
    "            for qa in paragraph['qas']:\n",
    "                question = qa['question']\n",
    "                answer = qa['answers'][0]['text']\n",
    "                start_pos = qa['answers'][0]['answer_start']\n",
    "                end_pos = start_pos + len(answer)\n",
    "                rows_values.append([str(context), str(question), str(answer), start_pos, end_pos])\n",
    "    return rows_values\n",
    "\n",
    "\n",
    "def convert_to_csv(file_path, rows_values):\n",
    "    row_count = 0\n",
    "    with open(file_path, 'w', newline='') as f:\n",
    "        writer = csv.writer(f)\n",
    "        writer.writerow(['context', 'question', 'answer', 'start_pos', 'end_pos'])\n",
    "        for value in rows_values:\n",
    "            try:\n",
    "                writer.writerow(value)\n",
    "            except:\n",
    "                row_count = row_count + 1"
   ]
  },
  {
   "cell_type": "code",
   "execution_count": null,
   "id": "1893f6e5-d805-4cb9-9065-c885e2a6730f",
   "metadata": {},
   "outputs": [],
   "source": [
    "train_data = preprocess('spoken_train-v1.1.json')\n",
    "convert_to_csv('squad_train_data.csv', train_data)"
   ]
  },
  {
   "cell_type": "code",
   "execution_count": null,
   "id": "9e6fc851-1aca-4298-89af-a2fd729e3e82",
   "metadata": {},
   "outputs": [],
   "source": [
    "test_data = preprocess_squad_data('spoken_test-v1.1.json')\n",
    "convert_to_csv('squad_test_data.csv', test_data)"
   ]
  }
 ],
 "metadata": {
  "kernelspec": {
   "display_name": "Python 3 (ipykernel)",
   "language": "python",
   "name": "python3"
  },
  "language_info": {
   "codemirror_mode": {
    "name": "ipython",
    "version": 3
   },
   "file_extension": ".py",
   "mimetype": "text/x-python",
   "name": "python",
   "nbconvert_exporter": "python",
   "pygments_lexer": "ipython3",
   "version": "3.9.16"
  }
 },
 "nbformat": 4,
 "nbformat_minor": 5
}
